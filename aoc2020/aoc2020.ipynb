{
 "cells": [
  {
   "cell_type": "markdown",
   "metadata": {},
   "source": [
    "# Advent of Code 2020\n",
    "\n",
    "[Website](https://adventofcode.com/2020/)"
   ]
  },
  {
   "cell_type": "code",
   "execution_count": 4,
   "metadata": {},
   "outputs": [],
   "source": [
    "# import modules\n",
    "import operator\n",
    "import re"
   ]
  },
  {
   "cell_type": "markdown",
   "metadata": {},
   "source": [
    "## Day 1\n",
    "\n",
    "Find the two entries that sum to 2020; what do you get if you multiply them together?"
   ]
  },
  {
   "cell_type": "code",
   "execution_count": 5,
   "metadata": {},
   "outputs": [
    {
     "name": "stdout",
     "output_type": "stream",
     "text": [
      "1020099\n"
     ]
    }
   ],
   "source": [
    "with open('data/day01.txt') as input_file_01:\n",
    "    input_01 = input_file_01.readlines()\n",
    "    while len(input_01) > 2:\n",
    "        a = int(input_01.pop(1))\n",
    "        for x in range(1, len(input_01)):\n",
    "            b = int(input_01[x])\n",
    "            if (a + b == 2020):\n",
    "                prod_ab = a * b\n",
    "                print(prod_ab)\n",
    "                break"
   ]
  },
  {
   "cell_type": "markdown",
   "metadata": {},
   "source": [
    "What is the product of the three entries that sum to 2020?"
   ]
  },
  {
   "cell_type": "code",
   "execution_count": 6,
   "metadata": {},
   "outputs": [
    {
     "name": "stdout",
     "output_type": "stream",
     "text": [
      "49214880\n"
     ]
    }
   ],
   "source": [
    "with open('data/day01.txt') as input_file_01:\n",
    "    input_01 = input_file_01.readlines()\n",
    "    while len(input_01) > 2:\n",
    "        a = int(input_01.pop(1))\n",
    "        for x in range(1, len(input_01)):\n",
    "            b = int(input_01[x])\n",
    "            for y in range(x, len(input_01)):\n",
    "                c  = int(input_01[y])\n",
    "                if (a + b + c == 2020):\n",
    "                    prod_abc = a * b * c\n",
    "                    print(prod_abc)\n",
    "                    break"
   ]
  },
  {
   "cell_type": "markdown",
   "metadata": {},
   "source": [
    "## Day 2\n",
    "\n",
    "### How many passwords are valid?"
   ]
  },
  {
   "cell_type": "code",
   "execution_count": 7,
   "metadata": {},
   "outputs": [
    {
     "name": "stdout",
     "output_type": "stream",
     "text": [
      "591\n"
     ]
    }
   ],
   "source": [
    "valid = 0\n",
    "\n",
    "with open('data/day02.txt') as input_file_02:\n",
    "    for line in input_file_02:\n",
    "        pw = re.split(r'-|:? ', str.strip(line))\n",
    "        matched = re.findall(pw[2], pw[3])\n",
    "        if len(matched) >= int(pw[0]) and len(matched) <= int(pw[1]):\n",
    "            valid = valid + 1\n",
    "\n",
    "print(valid)"
   ]
  },
  {
   "cell_type": "markdown",
   "metadata": {},
   "source": [
    "### New validation rules"
   ]
  },
  {
   "cell_type": "code",
   "execution_count": 8,
   "metadata": {},
   "outputs": [
    {
     "name": "stdout",
     "output_type": "stream",
     "text": [
      "335\n"
     ]
    }
   ],
   "source": [
    "valid_pos = 0\n",
    "\n",
    "with open('data/day02.txt') as input_file_02:\n",
    "    for line in input_file_02:\n",
    "        pw = re.split(r'-|:? ', str.strip(line))\n",
    "        pos0 = int(pw[0]) - 1\n",
    "        pos1 = int(pw[1]) - 1\n",
    "        ltr = pw[2]\n",
    "        pw_str = pw[3]\n",
    "        if operator.xor(pw_str[pos0] == ltr, pw_str[pos1] == ltr):\n",
    "            valid_pos = valid_pos + 1\n",
    "\n",
    "print(valid_pos)"
   ]
  },
  {
   "cell_type": "markdown",
   "metadata": {},
   "source": [
    "## Day 3\n",
    "\n",
    "With a slope of three right and one down, how many trees do I encounter on the map?"
   ]
  },
  {
   "cell_type": "code",
   "execution_count": 9,
   "metadata": {},
   "outputs": [
    {
     "name": "stdout",
     "output_type": "stream",
     "text": [
      "254\n"
     ]
    }
   ],
   "source": [
    "# First we repeat the map rightward to at least three times its length.\n",
    "\n",
    "# Map of the area\n",
    "a = []\n",
    "b = []\n",
    "with open('data/day03.txt') as input_file_03:\n",
    "    for line in input_file_03:\n",
    "        x = len(line)\n",
    "        a.append(line.strip())\n",
    "\n",
    "# How many rows down\n",
    "y = len(a)\n",
    "\n",
    "# How much we need to repeat the map\n",
    "r = (4 * y) // x + 1\n",
    "\n",
    "# Repeat each row to the right r times\n",
    "for row in a:\n",
    "    row *= r\n",
    "    b.append(row)\n",
    "\n",
    "# Now move across and down the map.\n",
    "\n",
    "# Trees found\n",
    "t = 0\n",
    "\n",
    "# Position of toboggan\n",
    "p = [0, 0]\n",
    "while p[0] < x * r-1 and p[1] < y-1:\n",
    "    p[0] = p[0] + 3\n",
    "    p[1] = p[1] + 1\n",
    "    if b[p[1]][p[0]] == '#':\n",
    "        t = t + 1\n",
    "\n",
    "print(t)"
   ]
  },
  {
   "cell_type": "markdown",
   "metadata": {},
   "source": [
    "The same, with different slope combinations."
   ]
  },
  {
   "cell_type": "code",
   "execution_count": 10,
   "metadata": {},
   "outputs": [
    {
     "name": "stdout",
     "output_type": "stream",
     "text": [
      "{0: 63, 1: 254, 2: 62, 3: 56, 4: 30}\n",
      "1666768320\n"
     ]
    }
   ],
   "source": [
    "# Repeat the map again.\n",
    "\n",
    "# How much we need to repeat the map\n",
    "r = (8 * y) // x + 1\n",
    "\n",
    "# Repeat each row to the right r times\n",
    "b =  []\n",
    "for row in a:\n",
    "    row *= r\n",
    "    b.append(row)\n",
    "\n",
    "# Four more slope combinations.\n",
    "sl = {0: [1, 1], 1: [3, 1], 2: [5, 1], 3: [7, 1], 4: [1, 2]}\n",
    "\n",
    "# Record of trees hit by each slope.\n",
    "tr = {}\n",
    "\n",
    "# Final product\n",
    "pr = 1\n",
    "\n",
    "for i in range(0, 5):\n",
    "    p = [0, 0]\n",
    "    t = 0\n",
    "    while p[0] < x * r-1 and p[1] < y-1:\n",
    "        p[0] = p[0] + sl[i][0]\n",
    "        p[1] = p[1] + sl[i][1]\n",
    "        if b[p[1]][p[0]] == '#':\n",
    "            t = t + 1\n",
    "    tr[i] = t\n",
    "    pr = pr * t\n",
    "\n",
    "print(tr)\n",
    "print(pr)"
   ]
  },
  {
   "cell_type": "markdown",
   "metadata": {},
   "source": [
    "## Day 4\n",
    "\n",
    "Find all valid passports/credentials -- all fields other than `cid` are required."
   ]
  },
  {
   "cell_type": "code",
   "execution_count": 11,
   "metadata": {},
   "outputs": [
    {
     "name": "stdout",
     "output_type": "stream",
     "text": [
      "202\n"
     ]
    }
   ],
   "source": [
    "# Passport fields.\n",
    "fld_ps = ['byr', 'iyr', 'eyr', 'hgt', 'hcl', 'ecl', 'pid', 'cid']\n",
    "fld_cr = set(fld_ps[0:-1])\n",
    "present = 0\n",
    "ps_present = []\n",
    "\n",
    "with open('data/day04.txt') as input_file_04:\n",
    "    input_04 = input_file_04.read()\n",
    "    ps = input_04.split('\\n\\n')\n",
    "\n",
    "    for line in ps:\n",
    "        pp = line.split()\n",
    "        pe = {}\n",
    "        for entry in pp:\n",
    "            ent = re.split(r':', entry, maxsplit=1)\n",
    "            pe[ent[0]] = ent[1]\n",
    "        fld_e = set(list(pe))\n",
    "        if len(fld_cr.difference(fld_e)) == 0:\n",
    "            ps_present.append(pe)\n",
    "            present = present + 1\n",
    "\n",
    "print(present)"
   ]
  },
  {
   "cell_type": "markdown",
   "metadata": {},
   "source": [
    "Now validate the documents."
   ]
  },
  {
   "cell_type": "code",
   "execution_count": 12,
   "metadata": {},
   "outputs": [
    {
     "name": "stdout",
     "output_type": "stream",
     "text": [
      "137\n"
     ]
    }
   ],
   "source": [
    "# Documents with all fields present are in the list ps_present.\n",
    "valid = 0\n",
    "ecl_valid = set(['amb', 'blu', 'brn', 'gry', 'grn', 'hzl', 'oth'])\n",
    "\n",
    "for ent_pr in ps_present:\n",
    "    if int(ent_pr['byr']) >= 1920 and int(ent_pr['byr']) <= 2002 and int(ent_pr['iyr']) >= 2010 and int(ent_pr['iyr']) <= 2020 and int(ent_pr['eyr']) >= 2020 and int(ent_pr['eyr']) <= 2030 and re.match(r'^\\#[a-f0-9]{6}$', ent_pr['hcl']) and ent_pr['ecl'] in ecl_valid and len(ent_pr['pid']) == 9:\n",
    "        ent_hgt = {}\n",
    "        if re.search(r'(cm)$', ent_pr['hgt']):\n",
    "            ent_hgt = {'cm': re.search(r'[0-9]+', ent_pr['hgt']).group()}\n",
    "            if int(ent_hgt['cm']) >= 150 and int(ent_hgt['cm']) <= 193:\n",
    "                valid = valid + 1\n",
    "        elif re.search(r'(in)$', ent_pr['hgt']):\n",
    "            ent_hgt = {'in': re.search(r'[0-9]+', ent_pr['hgt']).group()}\n",
    "            if int(ent_hgt['in']) >= 59 and int(ent_hgt['in']) <= 76:\n",
    "                valid = valid + 1\n",
    "\n",
    "print(valid)"
   ]
  },
  {
   "cell_type": "markdown",
   "metadata": {},
   "source": [
    "## Day 5\n",
    "\n",
    "What is the highest seat ID on a boarding pass?"
   ]
  },
  {
   "cell_type": "code",
   "execution_count": 13,
   "metadata": {},
   "outputs": [
    {
     "name": "stdout",
     "output_type": "stream",
     "text": [
      "813\n"
     ]
    }
   ],
   "source": [
    "seats = []\n",
    "\n",
    "# Assign seat IDs.\n",
    "with open('data/day05.txt') as input_file_05:\n",
    "    for line in input_file_05:\n",
    "        # They're just binary numbers.\n",
    "        row_s = line[0:7]\n",
    "        row_i = int(row_s.replace('F', '0').replace('B', '1'), base=2)\n",
    "        col_s = line[7:10]\n",
    "        col_i = int(col_s.replace('L', '0').replace('R', '1'), base=2)\n",
    "        seats.append(row_i * 8 + col_i)\n",
    "\n",
    "# Find the highest seat ID.\n",
    "print(max(seats))"
   ]
  },
  {
   "cell_type": "markdown",
   "metadata": {},
   "source": [
    "Find the missing seat ID."
   ]
  },
  {
   "cell_type": "code",
   "execution_count": 14,
   "metadata": {},
   "outputs": [
    {
     "name": "stdout",
     "output_type": "stream",
     "text": [
      "611 613\n"
     ]
    }
   ],
   "source": [
    "seats.sort()\n",
    "for i in seats:\n",
    "    if seats[i+1] > seats[i] + 1:\n",
    "        print(seats[i], seats[i+1])\n",
    "        break"
   ]
  },
  {
   "cell_type": "markdown",
   "metadata": {},
   "source": [
    "## Day 6\n",
    "\n",
    "Sum of count of unique answers in each group."
   ]
  },
  {
   "cell_type": "code",
   "execution_count": 15,
   "metadata": {},
   "outputs": [
    {
     "name": "stdout",
     "output_type": "stream",
     "text": [
      "6703\n"
     ]
    }
   ],
   "source": [
    "import string\n",
    "\n",
    "counts = 0\n",
    "\n",
    "with open('data/day06.txt') as input_file_06:\n",
    "    input_06 = input_file_06.read()\n",
    "    groups = input_06.split('\\n\\n')\n",
    "    \n",
    "    for group in groups:\n",
    "        i = 0\n",
    "        for l in string.ascii_lowercase:\n",
    "            if l in group:\n",
    "                i = i + 1\n",
    "        counts = counts + i\n",
    "        \n",
    "print(counts)"
   ]
  },
  {
   "cell_type": "markdown",
   "metadata": {},
   "source": [
    "Sum of count of questions in each group to which everyone answered yes."
   ]
  },
  {
   "cell_type": "code",
   "execution_count": 16,
   "metadata": {},
   "outputs": [
    {
     "name": "stdout",
     "output_type": "stream",
     "text": [
      "3430\n"
     ]
    }
   ],
   "source": [
    "countt = 0\n",
    "\n",
    "for group in groups:\n",
    "    allyes = set(string.ascii_lowercase)\n",
    "    answers = group.split('\\n')\n",
    "    for a in answers:\n",
    "        allyes.intersection_update(set(a))\n",
    "    countt = countt + len(allyes)\n",
    "\n",
    "print(countt)"
   ]
  },
  {
   "cell_type": "code",
   "execution_count": null,
   "metadata": {},
   "outputs": [],
   "source": []
  }
 ],
 "metadata": {
  "kernelspec": {
   "display_name": "Python 3 (ipykernel)",
   "language": "python",
   "name": "python3"
  },
  "language_info": {
   "codemirror_mode": {
    "name": "ipython",
    "version": 3
   },
   "file_extension": ".py",
   "mimetype": "text/x-python",
   "name": "python",
   "nbconvert_exporter": "python",
   "pygments_lexer": "ipython3",
   "version": "3.10.6"
  }
 },
 "nbformat": 4,
 "nbformat_minor": 4
}
